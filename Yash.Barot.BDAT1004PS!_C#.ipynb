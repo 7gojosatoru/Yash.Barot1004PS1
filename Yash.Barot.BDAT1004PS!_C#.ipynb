{
 "cells": [
  {
   "cell_type": "markdown",
   "id": "902686b3",
   "metadata": {},
   "source": [
    "# Question 1\n",
    "\n",
    "What data type is each of the following?\n",
    "5                 int    \n",
    "5.0               float\n",
    "5 > 1             boolean\n",
    "'5'               string\n",
    "5 * 2             int\n",
    "'5' * 2           string \n",
    "'5' + '2'         string\n",
    "5 / 2             int\n",
    "5 % 2             int\n",
    "{5, 2, 1}         array\n",
    "5 == 3            boolean\n",
    "Pi (the number)   float\n"
   ]
  },
  {
   "cell_type": "markdown",
   "id": "e3250a22",
   "metadata": {},
   "source": [
    "# Question 2\n",
    "\n",
    "Write (and evaluate) C# expressions that answer these questions:\n",
    "a. How many letters are there in 'Supercalifragilisticexpialidocious'?\n",
    "b. Does 'Supercalifragilisticexpialidocious' contain 'ice' as a substring? \n",
    "c. Which of the following words is the longest: Supercalifragilisticexpialidocious, Honorificabilitudinitatibus, or\n",
    "Bababadalgharaghtakamminarronnkonn?\n",
    "d. Which composer comes first in the dictionary: 'Berlioz', 'Borodin', 'Brian', 'Bartok', 'Bellini', 'Buxtehude', 'Bernstein'. Which one comes last?\n"
   ]
  },
  {
   "cell_type": "code",
   "execution_count": 1,
   "id": "cd9c65e7",
   "metadata": {},
   "outputs": [
    {
     "name": "stdout",
     "output_type": "stream",
     "text": [
      "34\r\n"
     ]
    }
   ],
   "source": [
    "string str1 = \"Supercalifragilisticexpialidocious\";\n",
    "Console.WriteLine(str1.Length);"
   ]
  },
  {
   "cell_type": "code",
   "execution_count": 2,
   "id": "4c7ce689",
   "metadata": {},
   "outputs": [
    {
     "name": "stdout",
     "output_type": "stream",
     "text": [
      "True\r\n"
     ]
    }
   ],
   "source": [
    "string str2 = \"Supercalifragilisticexpialidocious\";\n",
    "string substring = \"ice\";\n",
    "Console.WriteLine(str2.Contains(substring));"
   ]
  },
  {
   "cell_type": "code",
   "execution_count": 8,
   "id": "dd864884",
   "metadata": {},
   "outputs": [
    {
     "name": "stdout",
     "output_type": "stream",
     "text": [
      "Supercalifragilisticexpialidocious\r\n"
     ]
    }
   ],
   "source": [
    "string line = \"Supercalifragilisticexpialidocious Honorificabilitudinitatibus Bababadalgharaghtakamminarronnkonn\";\n",
    "string[] words = line.Split(new[] { \" \" }, StringSplitOptions.None);\n",
    "string longest = \"\";\n",
    "int ctr = 0;\n",
    "foreach (String s in words)\n",
    "        {\n",
    "            if (s.Length > ctr)\n",
    "            {\n",
    "                longest = s;\n",
    "                ctr = s.Length;\n",
    "            }\n",
    "        }\n",
    "\n",
    "Console.WriteLine(longest);"
   ]
  },
  {
   "cell_type": "code",
   "execution_count": 9,
   "id": "36ec7f88",
   "metadata": {},
   "outputs": [
    {
     "name": "stdout",
     "output_type": "stream",
     "text": [
      "First word is Bartok\n",
      "Last Word is Buxtehude\n"
     ]
    }
   ],
   "source": [
    "List<string> names = new List<string>();\n",
    "            names.Add(\"Berlioz\");\n",
    "            names.Add(\"Borodin\");\n",
    "            names.Add(\"Brian\");\n",
    "            names.Add(\"Bartok\");\n",
    "            names.Add(\"Bellini\");\n",
    "            names.Add(\"Buxtehude\");\n",
    "            names.Add(\"Bernstein\");\n",
    "\n",
    "            names.Sort();\n",
    "            var first = names[0];\n",
    "            var last = names[names.Count -1];\n",
    "\n",
    "            Console.WriteLine(\"First word is \" + first) ;\n",
    "            Console.WriteLine(\"Last Word is \" + last);\n",
    "            Console.ReadLine();\n"
   ]
  },
  {
   "cell_type": "markdown",
   "id": "1f3895e3",
   "metadata": {},
   "source": [
    "# Question 3\n",
    "\n",
    "Implement function triangleArea(a,b,c) that takes as input the lengths of the 3 sides of a triangle and returns the area of the triangle. By Heron's formula, the area of a triangle with side lengths a, b, and c is s(s - a)(s -b)(s -c), where s = (a+b+c)/2.\n",
    "triangleArea(2,2,2)\n",
    "1.7320508075688772"
   ]
  },
  {
   "cell_type": "code",
   "execution_count": 19,
   "id": "3eba090b",
   "metadata": {},
   "outputs": [],
   "source": [
    "private static float triangleArea(float s1,float s2,float s3)\n",
    "    {\n",
    "      float s = (s1 + s2 + s3)/2;\n",
    "      float area = System.MathF.Sqrt(s*(s - s1)*(s -s2)*(s -s3));\n",
    "      return area;\n",
    "    }"
   ]
  },
  {
   "cell_type": "code",
   "execution_count": 20,
   "id": "35f72118",
   "metadata": {},
   "outputs": [
    {
     "data": {
      "text/plain": [
       "1.7320508"
      ]
     },
     "execution_count": 20,
     "metadata": {},
     "output_type": "execute_result"
    }
   ],
   "source": [
    "triangleArea(2,2,2)"
   ]
  },
  {
   "cell_type": "markdown",
   "id": "d5a9b121",
   "metadata": {},
   "source": [
    "# Question 4\n",
    "\n",
    "Write a program in C# Sharp to separate odd and even integers in separate arrays.\n",
    "Go to the editor\n",
    "Test Data :\n",
    "Input the number of elements to be stored in the array :5\n",
    "Input 5 elements in the array :\n",
    "element - 0 : 25\n",
    "element - 1 : 47\n",
    "element - 2 : 42\n",
    "element - 3 : 56\n",
    "element - 4 : 32\n",
    "Expected Output:\n",
    "The Even elements are:\n",
    "42 56 32\n",
    "The Odd elements are :\n",
    "25 47"
   ]
  },
  {
   "cell_type": "code",
   "execution_count": 29,
   "id": "e33c7167",
   "metadata": {},
   "outputs": [],
   "source": [
    "public static int[][] Numbers(int[] lst)\n",
    "    {\n",
    "        List<int> even = new List<int>();\n",
    "        List<int> odd = new List<int>();\n",
    "        foreach (int num in lst)\n",
    "        {\n",
    "            if(num % 2 == 0)\n",
    "                even.Add(num);\n",
    "            else\n",
    "                odd.Add(num);\n",
    "        }\n",
    "        int[][] result = new int[2][];\n",
    "        result[0] = even.ToArray();\n",
    "        result[1] = odd.ToArray();\n",
    "        return result;\n",
    "    }\n",
    "    "
   ]
  },
  {
   "cell_type": "code",
   "execution_count": 32,
   "id": "27e3de7b",
   "metadata": {},
   "outputs": [
    {
     "name": "stdout",
     "output_type": "stream",
     "text": [
      "\n",
      "Even Numbers\n",
      "42 56 32 \n",
      "Odd Numbers\n",
      "25 47 "
     ]
    }
   ],
   "source": [
    "int[] arr=new int[] {25, 47, 42, 56, 32};\n",
    "int[][] result=Numbers(arr);\n",
    "Console.WriteLine(\"\\nEven Numbers\");\n",
    "foreach (int num in result[0])\n",
    "    Console.Write(num+\" \");\n",
    "Console.WriteLine(\"\\nOdd Numbers\");\n",
    "foreach (int num in result[1])\n",
    "    Console.Write(num+\" \");"
   ]
  },
  {
   "cell_type": "markdown",
   "id": "8bfb0847",
   "metadata": {},
   "source": [
    "# Question 5"
   ]
  },
  {
   "cell_type": "raw",
   "id": "1af7ac75",
   "metadata": {},
   "source": [
    "a. Write a function inside(x,y,x1,y1,x2,y2) that returns True or False depending on whether the point (x,y) lies in the rectangle with lower leftcorner (x1,y1) and upper right corner (x2,y2).\n",
    ">>> inside(1,1,0,0,2,3)\n",
    "True\n",
    ">>> inside(-1,-1,0,0,2,3)\n",
    "False\n",
    "\n",
    "b. Use function inside() from part a. to write an expression that tests whether the point (1,1) lies in both of the following rectangles: one with lower left corner (0.3, 0.5) and upper right corner (1.1, 0.7) and the other with lower left corner (0.5, 0.2) and upper right corner (1.1, 2). "
   ]
  },
  {
   "cell_type": "code",
   "execution_count": 33,
   "id": "d26a7cd4",
   "metadata": {},
   "outputs": [],
   "source": [
    "public static bool inside(double x, double y, double x1, double y1, double x2, double y2)\n",
    "    {\n",
    "        if(x>x1 && y>y1 && x<x2 && y<y2)\n",
    "            return true;\n",
    "        else\n",
    "            return false;\n",
    "    }"
   ]
  },
  {
   "cell_type": "code",
   "execution_count": 34,
   "id": "6036e977",
   "metadata": {},
   "outputs": [
    {
     "name": "stdout",
     "output_type": "stream",
     "text": [
      "True\r\n"
     ]
    }
   ],
   "source": [
    "bool result=inside(1,1,0,0,2,3);\n",
    "Console.WriteLine(result);\n"
   ]
  },
  {
   "cell_type": "code",
   "execution_count": 35,
   "id": "809ad296",
   "metadata": {},
   "outputs": [
    {
     "name": "stdout",
     "output_type": "stream",
     "text": [
      "False\r\n"
     ]
    }
   ],
   "source": [
    "bool result=inside(-1,-1,0,0,2,3);\n",
    "Console.WriteLine(result);"
   ]
  },
  {
   "cell_type": "code",
   "execution_count": 38,
   "id": "1019d732",
   "metadata": {},
   "outputs": [
    {
     "name": "stdout",
     "output_type": "stream",
     "text": [
      "False\r\n"
     ]
    }
   ],
   "source": [
    "Console.WriteLine(inside(1,1,0.3,0.5,1.1,0.7) && inside(1,1,0.5,0.2,1.1,2));"
   ]
  },
  {
   "cell_type": "code",
   "execution_count": null,
   "id": "aba28d75",
   "metadata": {},
   "outputs": [],
   "source": []
  }
 ],
 "metadata": {
  "kernelspec": {
   "display_name": ".NET (C#)",
   "language": "C#",
   "name": ".net-csharp"
  },
  "language_info": {
   "file_extension": ".cs",
   "mimetype": "text/x-csharp",
   "name": "C#",
   "pygments_lexer": "csharp",
   "version": "8.0"
  }
 },
 "nbformat": 4,
 "nbformat_minor": 5
}
