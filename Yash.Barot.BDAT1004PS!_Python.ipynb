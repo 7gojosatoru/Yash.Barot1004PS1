{
 "cells": [
  {
   "cell_type": "markdown",
   "id": "6e08155a",
   "metadata": {},
   "source": [
    "# Question 6\n",
    "\n",
    "You can turn a word into pig-Latin using the following two rules (simplified):\n",
    "\n",
    "• If the word starts with a consonant, move that letter to the end and append\n",
    "'ay'. For example, 'happy' becomes 'appyhay' and 'pencil' becomes 'encilpay'.\n",
    "• If the word starts with a vowel, simply append 'way' to the end of the word.\n",
    "For example, 'enter' becomes 'enterway' and 'other' becomes 'otherway' . For\n",
    "our purposes, there are 5 vowels: a, e, i, o, u (so we count y as a consonant).\n",
    "Write a function pig() that takes a word (i.e., a string) as input and returns its pigLatin form. Your function should still work if the input word contains upper case\n",
    "characters. Your output should always be lower case however.\n",
    "\n",
    "pig('happy')\n",
    "appyhay'\n",
    "pig('Enter')\n",
    "'enterway' "
   ]
  },
  {
   "cell_type": "code",
   "execution_count": 2,
   "id": "17ab5a0a",
   "metadata": {},
   "outputs": [],
   "source": [
    "def pig(word):\n",
    "    vowels=[\"a\",\"e\",\"i\",\"o\",\"u\"]\n",
    "    word=word.lower()\n",
    "    \n",
    "    if word[0] not in vowels:\n",
    "        word=word+word[0]+\"ay\"\n",
    "        word=word[1:]\n",
    "    else:\n",
    "        word=word+\"way\"\n",
    "    return word\n",
    "            "
   ]
  },
  {
   "cell_type": "code",
   "execution_count": 4,
   "id": "ee9daca4",
   "metadata": {},
   "outputs": [
    {
     "data": {
      "text/plain": [
       "'appyhay'"
      ]
     },
     "execution_count": 4,
     "metadata": {},
     "output_type": "execute_result"
    }
   ],
   "source": [
    "pig('happy')\n"
   ]
  },
  {
   "cell_type": "code",
   "execution_count": 5,
   "id": "b5e4310a",
   "metadata": {},
   "outputs": [
    {
     "data": {
      "text/plain": [
       "'enterway'"
      ]
     },
     "execution_count": 5,
     "metadata": {},
     "output_type": "execute_result"
    }
   ],
   "source": [
    "pig('Enter')\n"
   ]
  },
  {
   "cell_type": "markdown",
   "id": "9d716cf2",
   "metadata": {},
   "source": [
    "# Question 7\n",
    "\n",
    "File bloodtype1.txt records blood-types of patients (A, B, AB, O or OO) at a clinic. Write a function bldcount() that reads the file with name name and reports (i.e., prints) how many patients there are in each bloodtype.\n",
    "bldcount('bloodtype.txt')\n",
    "There are 10 patients of blood type A.\n",
    "There is one patient of blood type B.\n",
    "There are 10 patients of blood type AB.\n",
    "There are 12 patients of blood type O.\n",
    "There are no patients of blood type OO."
   ]
  },
  {
   "cell_type": "code",
   "execution_count": 14,
   "id": "fcd9e63b",
   "metadata": {},
   "outputs": [],
   "source": [
    "def bldcount():\n",
    "    #loading file\n",
    "    file=open (\"bloodtype1.txt\")\n",
    "    #read each line of the file and create a list\n",
    "    blood=file.read()\n",
    "    bloodtypes=[\"A\", \"B\", \"AB\", \"O\", \"OO\"]\n",
    "    words = blood.split()\n",
    "    #now printing result\n",
    "    for bloodtype in bloodtypes:\n",
    "        count = words.count(bloodtype)\n",
    "        if count == 0:\n",
    "            print('No patients of blood type {}.'.format(bloodtype))\n",
    "        elif count == 1:\n",
    "            print ('One patient of blood type {}.'.format(bloodtype))\n",
    "        else:\n",
    "            print ('{} patients of blood type {}.'.format(str(count),bloodtype))\n",
    "    #close the file\n",
    "    bloodfile.close()"
   ]
  },
  {
   "cell_type": "code",
   "execution_count": 16,
   "id": "9e88a6e6",
   "metadata": {},
   "outputs": [
    {
     "name": "stdout",
     "output_type": "stream",
     "text": [
      "There are 15 patients of blood type A.\n",
      "There is one patients of blood type B.\n",
      "There are 13 patients of blood type AB.\n",
      "There are 15 patients of blood type O.\n",
      "There are no patients of blood type OO.\n"
     ]
    }
   ],
   "source": [
    "bldcount()"
   ]
  },
  {
   "cell_type": "markdown",
   "id": "2cb47d95",
   "metadata": {},
   "source": [
    "# Question 8\n",
    "\n",
    "Write a function curconv() that takes as input:\n",
    "1. a currency represented using a string (e.g., 'JPY' for the Japanese Yen or 'EUR' for the Euro)\n",
    "2. an amount and then converts and returns the amount in US dollars.\n",
    "curconv('EUR', 100)\n",
    "122.96544\n",
    "curconv('JPY', 100)\n",
    "1.241401\n",
    "The currency rates you will need are stored in file currencies.txt:\n"
   ]
  },
  {
   "cell_type": "code",
   "execution_count": 25,
   "id": "5cd4de5c",
   "metadata": {},
   "outputs": [],
   "source": [
    "def curconv(currency,value):\n",
    "    #load file\n",
    "    file=open(\"currencies.txt\")\n",
    "    #reading and create list\n",
    "    exchange=file.readlines()\n",
    "    exchange_list=[]\n",
    "    #string to tuple\n",
    "    for exchange_string in exchange:\n",
    "        exchange_tuple=tuple(map(str,exchange_string.split()))\n",
    "        exchange_list.append(exchange_tuple)\n",
    "    for i, exchange_rate in enumerate(exchange_list):\n",
    "        if currency==exchange_rate[0]:\n",
    "            usdollar=float(exchange_list[i][1])*value\n",
    "            break\n",
    "    file.close()\n",
    "    return usdollar"
   ]
  },
  {
   "cell_type": "code",
   "execution_count": 26,
   "id": "775da0fe",
   "metadata": {},
   "outputs": [
    {
     "data": {
      "text/plain": [
       "122.96544"
      ]
     },
     "execution_count": 26,
     "metadata": {},
     "output_type": "execute_result"
    }
   ],
   "source": [
    "curconv('EUR', 100)"
   ]
  },
  {
   "cell_type": "code",
   "execution_count": 27,
   "id": "3e9717a6",
   "metadata": {},
   "outputs": [
    {
     "data": {
      "text/plain": [
       "1.241401"
      ]
     },
     "execution_count": 27,
     "metadata": {},
     "output_type": "execute_result"
    }
   ],
   "source": [
    "curconv('JPY',100)"
   ]
  },
  {
   "cell_type": "markdown",
   "id": "3e951804",
   "metadata": {},
   "source": [
    "# Question 9\n",
    "\n",
    "Each of the following will cause an exception (an error). Identify what type of exception each will cause.\n",
    "\n",
    "1. Trying to add incompatible variables, as inadding 6 + ‘a’\n",
    "\n",
    "2. Referring to the 12th item of a list that has only 10 items\n",
    "\n",
    "3. Using a value that is out of range for a function’s input, such as calling math.sqrt(-1.0)\n",
    "\n",
    "4. Using an undeclared variable, such as print(x) when x has not been defined\n",
    "\n",
    "5. Trying to open a file that does not exist, such as mistyping the file name or looking in the wrong directory. \n",
    "\n",
    "\n",
    "ANSWERS:\n",
    "\n",
    "1. TypeError\n",
    "2. IndexError\n",
    "3. ValueError\n",
    "4. NameError\n",
    "5. IOError"
   ]
  },
  {
   "cell_type": "markdown",
   "id": "75369246",
   "metadata": {},
   "source": [
    "# Question 10\n",
    "\n",
    "\n",
    "Encryption is the process of hiding the meaning of a text by substituting letters in the message with other letters, according to some system. If the process is successful, no one but the intended recipient can understand the encrypted message. Cryptanalysis refers to attempts to undo the encryption, even if some details of the encryption are unknown (for example, if an encrypted message has been intercepted). The first step of cryptanalysis is often to build up a table of letter frequencies in the encrypted text. Assume that the string letters is already defined as 'abcdefghijklmnopqrstuvwxyz'. Write a function called frequencies() that takes a string as its only parameter, and returns a list of integers, showing the number of times each character appears in the text. Your function may ignore any characters that are not in letters.\n",
    "\n",
    "frequencies('The quick red fox got bored and went home.')\n",
    "\n",
    "[1, 1, 1, 3, 5, 1, 1, 2, 1, 0, 1, 0, 1, 2, 4, 0, 1, 2, 0, 2, 1, 0, 1, 1, 0, 0]\n",
    "\n",
    "frequencies('apple')"
   ]
  },
  {
   "cell_type": "code",
   "execution_count": 4,
   "id": "da8664a4",
   "metadata": {},
   "outputs": [],
   "source": [
    "def frequencies(text):\n",
    "    code='abcdefghijklmnopqrstuvwxyz'\n",
    "    #converting to lower case\n",
    "    text=text.lower()\n",
    "    #checking frequencies\n",
    "    frequency=[]\n",
    "    for letter in code:\n",
    "        if letter in text:\n",
    "            frequency.append(text.count(letter))\n",
    "        else:\n",
    "            frequency.append(0)\n",
    "    return frequency"
   ]
  },
  {
   "cell_type": "code",
   "execution_count": 5,
   "id": "5f58f904",
   "metadata": {},
   "outputs": [
    {
     "data": {
      "text/plain": [
       "[1, 1, 1, 3, 5, 1, 1, 2, 1, 0, 1, 0, 1, 2, 4, 0, 1, 2, 0, 3, 1, 0, 1, 1, 0, 0]"
      ]
     },
     "execution_count": 5,
     "metadata": {},
     "output_type": "execute_result"
    }
   ],
   "source": [
    "frequencies('The quick red fox got bored and went home.')\n"
   ]
  },
  {
   "cell_type": "code",
   "execution_count": 6,
   "id": "5168f92c",
   "metadata": {},
   "outputs": [
    {
     "data": {
      "text/plain": [
       "[1, 0, 0, 0, 1, 0, 0, 0, 0, 0, 0, 1, 0, 0, 0, 2, 0, 0, 0, 0, 0, 0, 0, 0, 0, 0]"
      ]
     },
     "execution_count": 6,
     "metadata": {},
     "output_type": "execute_result"
    }
   ],
   "source": [
    "frequencies('apple')"
   ]
  },
  {
   "cell_type": "code",
   "execution_count": null,
   "id": "5a700c2d",
   "metadata": {},
   "outputs": [],
   "source": []
  }
 ],
 "metadata": {
  "kernelspec": {
   "display_name": "Python 3",
   "language": "python",
   "name": "python3"
  },
  "language_info": {
   "codemirror_mode": {
    "name": "ipython",
    "version": 3
   },
   "file_extension": ".py",
   "mimetype": "text/x-python",
   "name": "python",
   "nbconvert_exporter": "python",
   "pygments_lexer": "ipython3",
   "version": "3.8.8"
  }
 },
 "nbformat": 4,
 "nbformat_minor": 5
}
